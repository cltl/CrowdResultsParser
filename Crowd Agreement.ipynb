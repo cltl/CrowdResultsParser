{
 "cells": [
  {
   "cell_type": "markdown",
   "metadata": {},
   "source": [
    "**NOTE** This notebook gives us the inter-annotator agreement on the crowd data."
   ]
  },
  {
   "cell_type": "code",
   "execution_count": 1,
   "metadata": {
    "collapsed": true
   },
   "outputs": [],
   "source": [
    "import numpy as np\n",
    "import krippendorff"
   ]
  },
  {
   "cell_type": "code",
   "execution_count": 2,
   "metadata": {
    "collapsed": true
   },
   "outputs": [],
   "source": [
    "def fleiss_kappa(M):\n",
    "    \"\"\"\n",
    "    See `Fleiss' Kappa <https://en.wikipedia.org/wiki/Fleiss%27_kappa>`_.\n",
    "    :param M: a matrix of shape (:attr:`N`, :attr:`k`) where `N` is the number of subjects and `k` is the number of categories into which assignments are made. `M[i, j]` represent the number of raters who assigned the `i`th subject to the `j`th category.\n",
    "    :type M: numpy matrix\n",
    "    \"\"\"\n",
    "    N, k = M.shape  # N is # of items, k is # of categories\n",
    "    n_annotators = float(np.sum(M[0, :]))  # # of annotators\n",
    "\n",
    "    p = np.sum(M, axis=0) / (N * n_annotators)\n",
    "    P = (np.sum(M * M, axis=1) - n_annotators) / (n_annotators * (n_annotators - 1))\n",
    "    Pbar = np.sum(P) / N\n",
    "    PbarE = np.sum(p * p)\n",
    "\n",
    "    kappa = (Pbar - PbarE) / (1 - PbarE)\n",
    "\n",
    "    return kappa\n",
    "    #end def"
   ]
  },
  {
   "cell_type": "code",
   "execution_count": 3,
   "metadata": {
    "collapsed": true
   },
   "outputs": [],
   "source": [
    "import json\n",
    "from collections import defaultdict\n",
    "import csv\n",
    "import pickle"
   ]
  },
  {
   "cell_type": "markdown",
   "metadata": {},
   "source": [
    "### 1. Setup job ID and load the results JSONL file"
   ]
  },
  {
   "cell_type": "code",
   "execution_count": 4,
   "metadata": {
    "collapsed": true
   },
   "outputs": [],
   "source": [
    "domains={'century':['20', '19', '18', '17', '21'], \n",
    "         'lifedur': ['71-80', '81-90', '61-70', '51-60', '91-100', '41-50', \n",
    "                      '31-40', '21-30', '101-110', '11-20'],\n",
    "         'gender': ['Male', 'Female'],\n",
    "         'politicalparty': ['Democratic Party', 'Republican Party'],\n",
    "         'occupation': ['politician', 'actor', 'lawyer', 'baseball player', \n",
    "                        'American football player', 'singer', 'writer', \n",
    "                        'basketball player', 'judge'],\n",
    "         'birthplace': ['New York City (NY)', 'Chicago (IL)', 'Los Angeles (CA)', \n",
    "                        'Philadelphia (PA)', 'Boston (MA)', 'Washington D.C.', \n",
    "                        'San Francisco (CA)', 'Detroit (MI)'],\n",
    "         'deathplace': ['New York City (NY)', 'Chicago (IL)', 'Los Angeles (CA)', \n",
    "                        'Philadelphia (PA)', 'Boston (MA)', 'Washington D.C.', \n",
    "                        'San Francisco (CA)', 'Santa Monica (CA)'],\n",
    "         'educatedat': ['Harvard University', 'Columbia University', 'Yale University', \n",
    "                        'University of Michigan', 'Stanford University', \n",
    "                        'Princeton University', 'University of Wisconsin–Madison', \n",
    "                        'University of California, Berkeley', 'Cornell University'],\n",
    "         'worklocation': ['Washington D.C.', 'New York City (NY)', \n",
    "                          'Harrisburg (PA)', 'Sacramento (CA)', 'Austin (TX)', \n",
    "                          'Springfield (IL)', 'Tallahassee (FL)', 'Baton Rouge (LA)', \n",
    "                          'Montpelier (VT)', 'Phoenix (AZ)'],\n",
    "         'religion': ['Christianity', 'atheism', 'Judaism', 'Islam']\n",
    "        }"
   ]
  },
  {
   "cell_type": "code",
   "execution_count": 5,
   "metadata": {},
   "outputs": [
    {
     "data": {
      "text/plain": [
       "338"
      ]
     },
     "execution_count": 5,
     "metadata": {},
     "output_type": "execute_result"
    }
   ],
   "source": [
    "job_ids=[\"1285337\", \"1286025\"]\n",
    "data_loc='crowd_data'\n",
    "\n",
    "results=[]\n",
    "for jid in job_ids:\n",
    "    filename='%s/job_%s.json' % (data_loc, jid)\n",
    "    with open(filename, 'r') as f:\n",
    "        for line in f:\n",
    "            results.append(json.loads(line))\n",
    "\n",
    "len(results)"
   ]
  },
  {
   "cell_type": "code",
   "execution_count": 6,
   "metadata": {
    "collapsed": true
   },
   "outputs": [],
   "source": [
    "def get_judgements_count(judgements, prop):\n",
    "    dists=defaultdict(int)\n",
    "    for j in judgements:\n",
    "        for value in j['data'][prop]:\n",
    "            dists[value]+=1\n",
    "    return dict(dists)"
   ]
  },
  {
   "cell_type": "code",
   "execution_count": 7,
   "metadata": {
    "collapsed": true
   },
   "outputs": [],
   "source": [
    "props=['century', 'religion', 'gender', 'deathplace', 'lifedur', 'birthplace',\n",
    "      'worklocation', 'occupation', 'educatedat', 'politicalparty'] #[::-1]"
   ]
  },
  {
   "cell_type": "code",
   "execution_count": 8,
   "metadata": {
    "collapsed": true
   },
   "outputs": [],
   "source": [
    "all_rows=[]\n",
    "for result in results:\n",
    "    if result['state'] in ['finalized', 'judgable']:\n",
    "        this_data=result['data']\n",
    "        these_judgements=result['results']['judgments']\n",
    "        this_id=result['id']\n",
    "        this_row={}\n",
    "        for k in props:\n",
    "            v=this_data[k]\n",
    "            if not v:\n",
    "                dist=get_judgements_count(these_judgements, 'sel%s' % k)\n",
    "                this_row[k]=dist\n",
    "        all_rows.append(this_row)"
   ]
  },
  {
   "cell_type": "code",
   "execution_count": 9,
   "metadata": {},
   "outputs": [
    {
     "data": {
      "text/plain": [
       "305"
      ]
     },
     "execution_count": 9,
     "metadata": {},
     "output_type": "execute_result"
    }
   ],
   "source": [
    "len(all_rows)"
   ]
  },
  {
   "cell_type": "code",
   "execution_count": 30,
   "metadata": {},
   "outputs": [],
   "source": [
    "data_per_property=defaultdict(list)\n",
    "\n",
    "data_per_known_and_prop={\n",
    "                            3: defaultdict(list), 4: defaultdict(list), 5: defaultdict(list), \n",
    "                            6: defaultdict(list), 7: defaultdict(list), 8: defaultdict(list), \n",
    "                            9: defaultdict(list), \n",
    "                        }\n",
    "#, 7: defaultdict(list), 8: defaultdict(list)}\n",
    "\n",
    "exclude_undecided=False\n",
    "\n",
    "for row in all_rows:\n",
    "    known=len(props)-len(row.keys())\n",
    "    for prop, distribution in row.items():\n",
    "        prop_domains=domains[prop]\n",
    "        if exclude_undecided:\n",
    "            size=len(prop_domains)+1\n",
    "        else:\n",
    "            size=len(prop_domains)+2\n",
    "        prop_row=[0]*size\n",
    "        for value, probability in distribution.items():\n",
    "            if value=='University of California Berkeley':\n",
    "                value='University of California, Berkeley'\n",
    "            if value=='I can not decide': \n",
    "                if exclude_undecided:\n",
    "                    continue\n",
    "                else:\n",
    "                    index=-2\n",
    "            elif value=='None of the above':\n",
    "                index=-1\n",
    "            else:\n",
    "                index = prop_domains.index(value)\n",
    "            prop_row[index]=probability\n",
    "        data_per_property[prop].append(prop_row)\n",
    "        if known in data_per_known_and_prop.keys():\n",
    "            data_per_known_and_prop[known][prop].append(prop_row)"
   ]
  },
  {
   "cell_type": "code",
   "execution_count": 31,
   "metadata": {},
   "outputs": [
    {
     "name": "stdout",
     "output_type": "stream",
     "text": [
      "0.272\n",
      "0.269\n",
      "0.282\n",
      "0.138\n",
      "0.331\n",
      "0.102\n",
      "0.179\n",
      "0.154\n",
      "0.149\n",
      "0.156\n",
      "average alpha 0.20335850198151068\n"
     ]
    }
   ],
   "source": [
    "alphas=[]\n",
    "kappas=[]\n",
    "for prop, data in data_per_property.items():\n",
    "    np_data=np.asarray(data)\n",
    "    kappa = fleiss_kappa(np_data)\n",
    "    kappas.append(kappa)\n",
    "    #print(round(kappa,3))\n",
    "    alpha=krippendorff.alpha(np_data, level_of_measurement='nominal')\n",
    "    print(round(alpha,3))\n",
    "    alphas.append(alpha)\n",
    "    \n",
    "print('average alpha', sum(alphas)/len(alphas))\n",
    "#print('average kappa', sum(kappas)/len(kappas))"
   ]
  },
  {
   "cell_type": "markdown",
   "metadata": {
    "collapsed": true
   },
   "source": [
    "### 2. Agreement per # known properties"
   ]
  },
  {
   "cell_type": "code",
   "execution_count": 32,
   "metadata": {},
   "outputs": [
    {
     "name": "stdout",
     "output_type": "stream",
     "text": [
      "3 century 0.325\n",
      "3 religion 0.249\n",
      "3 gender 0.267\n",
      "3 deathplace 0.154\n",
      "3 lifedur 0.319\n",
      "3 birthplace 0.105\n",
      "3 worklocation 0.223\n",
      "3 occupation 0.178\n",
      "3 educatedat 0.158\n",
      "3 politicalparty 0.127\n",
      "3 0.21048403977327923\n",
      "4 century 0.354\n",
      "4 religion 0.287\n",
      "4 gender 0.352\n",
      "4 deathplace 0.136\n",
      "4 lifedur 0.313\n",
      "4 birthplace 0.089\n",
      "4 worklocation 0.242\n",
      "4 occupation 0.173\n",
      "4 educatedat 0.128\n",
      "4 politicalparty 0.173\n",
      "4 0.22474281573503224\n",
      "5 century 0.346\n",
      "5 religion 0.343\n",
      "5 gender 0.356\n",
      "5 deathplace 0.193\n",
      "5 lifedur 0.43\n",
      "5 birthplace 0.137\n",
      "5 worklocation 0.195\n",
      "5 occupation 0.139\n",
      "5 educatedat 0.15\n",
      "5 politicalparty 0.171\n",
      "5 0.24592902545031992\n",
      "6 century 0.251\n",
      "6 religion 0.241\n",
      "6 gender 0.292\n",
      "6 deathplace 0.13\n",
      "6 worklocation 0.149\n",
      "6 occupation 0.167\n",
      "6 educatedat 0.172\n",
      "6 politicalparty 0.141\n",
      "6 0.19281843404352708\n",
      "7 century 0.327\n",
      "7 religion 0.224\n",
      "7 gender 0.393\n",
      "7 occupation 0.239\n",
      "7 educatedat 0.16\n",
      "7 politicalparty 0.202\n",
      "7 0.2577623925665629\n",
      "8 century 0.257\n",
      "8 religion 0.295\n",
      "8 educatedat 0.059\n",
      "8 politicalparty 0.253\n",
      "8 0.21579066522530566\n",
      "9 politicalparty nan\n",
      "9 century nan\n",
      "9 nan\n"
     ]
    },
    {
     "name": "stderr",
     "output_type": "stream",
     "text": [
      "/Library/Frameworks/Python.framework/Versions/3.6/lib/python3.6/site-packages/krippendorff/krippendorff.py:249: RuntimeWarning: invalid value encountered in double_scalars\n",
      "  return 1 - np.sum(o * d) / np.sum(e * d)\n"
     ]
    }
   ],
   "source": [
    "for known, prop_data in data_per_known_and_prop.items():\n",
    "    alphas=[]\n",
    "    for prop, data in prop_data.items():\n",
    "        np_data=np.asarray(data)\n",
    "        kappa = fleiss_kappa(np_data)\n",
    "        kappas.append(kappa)\n",
    "        #print(round(kappa,3))\n",
    "        alpha=krippendorff.alpha(np_data, level_of_measurement='nominal')\n",
    "        alphas.append(alpha)\n",
    "        print(known, prop, round(alpha,3))\n",
    "    print(known, sum(alphas)/len(alphas))"
   ]
  },
  {
   "cell_type": "code",
   "execution_count": null,
   "metadata": {
    "collapsed": true
   },
   "outputs": [],
   "source": []
  }
 ],
 "metadata": {
  "kernelspec": {
   "display_name": "Python 3",
   "language": "python",
   "name": "python3"
  },
  "language_info": {
   "codemirror_mode": {
    "name": "ipython",
    "version": 3
   },
   "file_extension": ".py",
   "mimetype": "text/x-python",
   "name": "python",
   "nbconvert_exporter": "python",
   "pygments_lexer": "ipython3",
   "version": "3.6.1"
  }
 },
 "nbformat": 4,
 "nbformat_minor": 2
}
